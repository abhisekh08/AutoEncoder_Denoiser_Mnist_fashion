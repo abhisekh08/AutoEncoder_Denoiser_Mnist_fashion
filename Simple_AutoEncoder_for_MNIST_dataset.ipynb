{
  "nbformat": 4,
  "nbformat_minor": 0,
  "metadata": {
    "colab": {
      "name": "Simple_AutoEncoder_for_MNIST_dataset.ipynb",
      "provenance": []
    },
    "kernelspec": {
      "name": "python3",
      "display_name": "Python 3"
    },
    "accelerator": "GPU"
  },
  "cells": [
    {
      "cell_type": "code",
      "metadata": {
        "id": "-PnGn7mHDtGu",
        "colab_type": "code",
        "colab": {}
      },
      "source": [
        "import keras\n",
        "import numpy as np\n",
        "import pandas as pd\n",
        "from keras.datasets import fashion_mnist\n",
        "from keras.models import Model\n",
        "from keras.layers import Input, Dense\n",
        "\n",
        "import matplotlib.pyplot as plt\n",
        "%matplotlib inline"
      ],
      "execution_count": 1,
      "outputs": []
    },
    {
      "cell_type": "markdown",
      "metadata": {
        "id": "FFuNHt87GUmQ",
        "colab_type": "text"
      },
      "source": [
        "**Loading and processing of input data**"
      ]
    },
    {
      "cell_type": "code",
      "metadata": {
        "id": "Cs_LdANCEN3k",
        "colab_type": "code",
        "colab": {
          "base_uri": "https://localhost:8080/",
          "height": 194
        },
        "outputId": "74e8e5fa-7b6b-476b-a581-c0486bbd9488"
      },
      "source": [
        "(x_train, _), (x_test, _) = fashion_mnist.load_data()\n",
        "\n",
        "#normalisation dataset (Train & Test)\n",
        "x_train = x_train.astype('float32') / 255.\n",
        "x_test = x_test.astype('float32') / 255.\n",
        "\n",
        "#Reshape dataset (Train & Test)\n",
        "x_train = x_train.reshape((len(x_train), np.prod(x_train.shape[1:])))\n",
        "x_test = x_test.reshape((len(x_test), np.prod(x_test.shape[1:])))\n",
        "print(x_train.shape)\n",
        "print(x_test.shape)\n",
        "\n",
        "#create a dataset  with noise\n",
        "noise_factor = 0.5\n",
        "x_train_noisy = x_train + noise_factor * np.random.normal(loc=0.0, scale=1.0, size=x_train.shape) \n",
        "x_test_noisy = x_test + noise_factor * np.random.normal(loc=0.0, scale=1.0, size=x_test.shape) \n",
        "\n",
        "x_train_noisy = np.clip(x_train_noisy, 0., 1.)\n",
        "x_test_noisy = np.clip(x_test_noisy, 0., 1.)"
      ],
      "execution_count": 2,
      "outputs": [
        {
          "output_type": "stream",
          "text": [
            "Downloading data from https://storage.googleapis.com/tensorflow/tf-keras-datasets/train-labels-idx1-ubyte.gz\n",
            "32768/29515 [=================================] - 0s 0us/step\n",
            "Downloading data from https://storage.googleapis.com/tensorflow/tf-keras-datasets/train-images-idx3-ubyte.gz\n",
            "26427392/26421880 [==============================] - 0s 0us/step\n",
            "Downloading data from https://storage.googleapis.com/tensorflow/tf-keras-datasets/t10k-labels-idx1-ubyte.gz\n",
            "8192/5148 [===============================================] - 0s 0us/step\n",
            "Downloading data from https://storage.googleapis.com/tensorflow/tf-keras-datasets/t10k-images-idx3-ubyte.gz\n",
            "4423680/4422102 [==============================] - 0s 0us/step\n",
            "(60000, 784)\n",
            "(10000, 784)\n"
          ],
          "name": "stdout"
        }
      ]
    },
    {
      "cell_type": "markdown",
      "metadata": {
        "id": "iRADbivRG6b4",
        "colab_type": "text"
      },
      "source": [
        "**Visualization of Data**"
      ]
    },
    {
      "cell_type": "code",
      "metadata": {
        "id": "EmxMMGB3EYvH",
        "colab_type": "code",
        "colab": {
          "base_uri": "https://localhost:8080/",
          "height": 128
        },
        "outputId": "f58a7367-a6b0-4577-e03e-a19618c95eea"
      },
      "source": [
        "import matplotlib.pyplot as plt\n",
        "n = 10\n",
        "plt.figure(figsize=(20, 2))\n",
        "for i in range(n):\n",
        "    ax = plt.subplot(1, n, i+1)\n",
        "    plt.imshow(x_test_noisy[i].reshape(28, 28))\n",
        "    plt.gray()\n",
        "    ax.get_xaxis().set_visible(False)\n",
        "    ax.get_yaxis().set_visible(False)\n",
        "plt.show()"
      ],
      "execution_count": 3,
      "outputs": [
        {
          "output_type": "display_data",
          "data": {
            "image/png": "[encoded data removed]",
            "text/plain": [
              "<Figure size 1440x144 with 10 Axes>"
            ]
          },
          "metadata": {
            "tags": [],
            "needs_background": "light"
          }
        }
      ]
    },
    {
      "cell_type": "markdown",
      "metadata": {
        "id": "yJrcp2HXHUs9",
        "colab_type": "text"
      },
      "source": [
        "**Defining the AutoEncoder Model**"
      ]
    },
    {
      "cell_type": "code",
      "metadata": {
        "id": "J7NW__BYG-nH",
        "colab_type": "code",
        "colab": {
          "base_uri": "https://localhost:8080/",
          "height": 407
        },
        "outputId": "c8c9a931-5be0-424a-f5f7-492b28d40940"
      },
      "source": [
        "from keras.layers import Input, Dense\n",
        "from keras.models import Model\n",
        "input_img = Input(shape=(784,))\n",
        "encoded = Dense(128, activation='relu')(input_img)\n",
        "encoded = Dense(64, activation='relu')(encoded)\n",
        "encoded = Dense(32, activation='relu')(encoded)\n",
        "\n",
        "decoded = Dense(64, activation='relu')(encoded)\n",
        "decoded = Dense(128, activation='relu')(decoded)\n",
        "decoded = Dense(784, activation='sigmoid')(decoded)\n",
        "\n",
        "denoiser_mlp = Model(input_img, decoded)\n",
        "denoiser_mlp.compile(optimizer='adam', loss='binary_crossentropy')\n",
        "denoiser_mlp.summary()"
      ],
      "execution_count": 4,
      "outputs": [
        {
          "output_type": "stream",
          "text": [
            "Model: \"functional_1\"\n",
            "_________________________________________________________________\n",
            "Layer (type)                 Output Shape              Param #   \n",
            "=================================================================\n",
            "input_1 (InputLayer)         [(None, 784)]             0         \n",
            "_________________________________________________________________\n",
            "dense (Dense)                (None, 128)               100480    \n",
            "_________________________________________________________________\n",
            "dense_1 (Dense)              (None, 64)                8256      \n",
            "_________________________________________________________________\n",
            "dense_2 (Dense)              (None, 32)                2080      \n",
            "_________________________________________________________________\n",
            "dense_3 (Dense)              (None, 64)                2112      \n",
            "_________________________________________________________________\n",
            "dense_4 (Dense)              (None, 128)               8320      \n",
            "_________________________________________________________________\n",
            "dense_5 (Dense)              (None, 784)               101136    \n",
            "=================================================================\n",
            "Total params: 222,384\n",
            "Trainable params: 222,384\n",
            "Non-trainable params: 0\n",
            "_________________________________________________________________\n"
          ],
          "name": "stdout"
        }
      ]
    },
    {
      "cell_type": "markdown",
      "metadata": {
        "id": "NcAeG54kHuYL",
        "colab_type": "text"
      },
      "source": [
        "**Training the Denoiser**"
      ]
    },
    {
      "cell_type": "code",
      "metadata": {
        "id": "VdOGhEJKHaKv",
        "colab_type": "code",
        "colab": {
          "base_uri": "https://localhost:8080/",
          "height": 1000
        },
        "outputId": "f5a20a4b-7741-4be6-a3be-44ce69970ff4"
      },
      "source": [
        " history_den_mlp = denoiser_mlp.fit(x_train_noisy, x_train,\n",
        "                epochs=200,\n",
        "                batch_size=256,\n",
        "                shuffle=True,\n",
        "                validation_data=(x_test_noisy, x_test))"
      ],
      "execution_count": 5,
      "outputs": [
        {
          "output_type": "stream",
          "text": [
            "Epoch 1/200\n",
            "235/235 [==============================] - 1s 4ms/step - loss: 0.4080 - val_loss: 0.3514\n",
            "Epoch 2/200\n",
            "235/235 [==============================] - 1s 4ms/step - loss: 0.3338 - val_loss: 0.3261\n",
            "Epoch 3/200\n",
            "235/235 [==============================] - 1s 4ms/step - loss: 0.3197 - val_loss: 0.3201\n",
            "Epoch 4/200\n",
            "235/235 [==============================] - 1s 4ms/step - loss: 0.3152 - val_loss: 0.3177\n",
            "Epoch 5/200\n",
            "235/235 [==============================] - 1s 3ms/step - loss: 0.3120 - val_loss: 0.3149\n",
            "Epoch 6/200\n",
            "235/235 [==============================] - 1s 3ms/step - loss: 0.3098 - val_loss: 0.3114\n",
            "Epoch 7/200\n",
            "235/235 [==============================] - 1s 4ms/step - loss: 0.3080 - val_loss: 0.3123\n",
            "Epoch 8/200\n",
            "235/235 [==============================] - 1s 3ms/step - loss: 0.3065 - val_loss: 0.3094\n",
            "Epoch 9/200\n",
            "235/235 [==============================] - 1s 3ms/step - loss: 0.3053 - val_loss: 0.3079\n",
            "Epoch 10/200\n",
            "235/235 [==============================] - 1s 3ms/step - loss: 0.3042 - val_loss: 0.3070\n",
            "Epoch 11/200\n",
            "235/235 [==============================] - 1s 3ms/step - loss: 0.3034 - val_loss: 0.3069\n",
            "Epoch 12/200\n",
            "235/235 [==============================] - 1s 3ms/step - loss: 0.3025 - val_loss: 0.3053\n",
            "Epoch 13/200\n",
            "235/235 [==============================] - 1s 4ms/step - loss: 0.3016 - val_loss: 0.3046\n",
            "Epoch 14/200\n",
            "235/235 [==============================] - 1s 4ms/step - loss: 0.3008 - val_loss: 0.3045\n",
            "Epoch 15/200\n",
            "235/235 [==============================] - 1s 3ms/step - loss: 0.3001 - val_loss: 0.3037\n",
            "Epoch 16/200\n",
            "235/235 [==============================] - 1s 4ms/step - loss: 0.2994 - val_loss: 0.3034\n",
            "Epoch 17/200\n",
            "235/235 [==============================] - 1s 3ms/step - loss: 0.2989 - val_loss: 0.3027\n",
            "Epoch 18/200\n",
            "235/235 [==============================] - 1s 4ms/step - loss: 0.2984 - val_loss: 0.3024\n",
            "Epoch 19/200\n",
            "235/235 [==============================] - 1s 3ms/step - loss: 0.2979 - val_loss: 0.3019\n",
            "Epoch 20/200\n",
            "235/235 [==============================] - 1s 3ms/step - loss: 0.2975 - val_loss: 0.3015\n",
            "Epoch 21/200\n",
            "235/235 [==============================] - 1s 3ms/step - loss: 0.2970 - val_loss: 0.3016\n",
            "Epoch 22/200\n",
            "235/235 [==============================] - 1s 3ms/step - loss: 0.2968 - val_loss: 0.3012\n",
            "Epoch 23/200\n",
            "235/235 [==============================] - 1s 3ms/step - loss: 0.2963 - val_loss: 0.3005\n",
            "Epoch 24/200\n",
            "235/235 [==============================] - 1s 3ms/step - loss: 0.2960 - val_loss: 0.3005\n",
            "Epoch 25/200\n",
            "235/235 [==============================] - 1s 4ms/step - loss: 0.2957 - val_loss: 0.3003\n",
            "Epoch 26/200\n",
            "235/235 [==============================] - 1s 4ms/step - loss: 0.2954 - val_loss: 0.2998\n",
            "Epoch 27/200\n",
            "235/235 [==============================] - 1s 4ms/step - loss: 0.2952 - val_loss: 0.2995\n",
            "Epoch 28/200\n",
            "235/235 [==============================] - 1s 4ms/step - loss: 0.2949 - val_loss: 0.2994\n",
            "Epoch 29/200\n",
            "235/235 [==============================] - 1s 3ms/step - loss: 0.2947 - val_loss: 0.2994\n",
            "Epoch 30/200\n",
            "235/235 [==============================] - 1s 3ms/step - loss: 0.2945 - val_loss: 0.2993\n",
            "Epoch 31/200\n",
            "235/235 [==============================] - 1s 3ms/step - loss: 0.2943 - val_loss: 0.2993\n",
            "Epoch 32/200\n",
            "235/235 [==============================] - 1s 3ms/step - loss: 0.2941 - val_loss: 0.2988\n",
            "Epoch 33/200\n",
            "235/235 [==============================] - 1s 3ms/step - loss: 0.2938 - val_loss: 0.2988\n",
            "Epoch 34/200\n",
            "235/235 [==============================] - 1s 3ms/step - loss: 0.2937 - val_loss: 0.2992\n",
            "Epoch 35/200\n",
            "235/235 [==============================] - 1s 3ms/step - loss: 0.2934 - val_loss: 0.2985\n",
            "Epoch 36/200\n",
            "235/235 [==============================] - 1s 3ms/step - loss: 0.2933 - val_loss: 0.2984\n",
            "Epoch 37/200\n",
            "235/235 [==============================] - 1s 3ms/step - loss: 0.2931 - val_loss: 0.2983\n",
            "Epoch 38/200\n",
            "235/235 [==============================] - 1s 4ms/step - loss: 0.2930 - val_loss: 0.2981\n",
            "Epoch 39/200\n",
            "235/235 [==============================] - 1s 4ms/step - loss: 0.2929 - val_loss: 0.2980\n",
            "Epoch 40/200\n",
            "235/235 [==============================] - 1s 3ms/step - loss: 0.2928 - val_loss: 0.2980\n",
            "Epoch 41/200\n",
            "235/235 [==============================] - 1s 3ms/step - loss: 0.2926 - val_loss: 0.2983\n",
            "Epoch 42/200\n",
            "235/235 [==============================] - 1s 3ms/step - loss: 0.2925 - val_loss: 0.2976\n",
            "Epoch 43/200\n",
            "235/235 [==============================] - 1s 3ms/step - loss: 0.2923 - val_loss: 0.2980\n",
            "Epoch 44/200\n",
            "235/235 [==============================] - 1s 3ms/step - loss: 0.2922 - val_loss: 0.2980\n",
            "Epoch 45/200\n",
            "235/235 [==============================] - 1s 4ms/step - loss: 0.2920 - val_loss: 0.2976\n",
            "Epoch 46/200\n",
            "235/235 [==============================] - 1s 3ms/step - loss: 0.2919 - val_loss: 0.2975\n",
            "Epoch 47/200\n",
            "235/235 [==============================] - 1s 4ms/step - loss: 0.2918 - val_loss: 0.2973\n",
            "Epoch 48/200\n",
            "235/235 [==============================] - 1s 4ms/step - loss: 0.2918 - val_loss: 0.2972\n",
            "Epoch 49/200\n",
            "235/235 [==============================] - 1s 3ms/step - loss: 0.2916 - val_loss: 0.2975\n",
            "Epoch 50/200\n",
            "235/235 [==============================] - 1s 4ms/step - loss: 0.2915 - val_loss: 0.2971\n",
            "Epoch 51/200\n",
            "235/235 [==============================] - 1s 3ms/step - loss: 0.2914 - val_loss: 0.2975\n",
            "Epoch 52/200\n",
            "235/235 [==============================] - 1s 4ms/step - loss: 0.2913 - val_loss: 0.2970\n",
            "Epoch 53/200\n",
            "235/235 [==============================] - 1s 3ms/step - loss: 0.2913 - val_loss: 0.2973\n",
            "Epoch 54/200\n",
            "235/235 [==============================] - 1s 4ms/step - loss: 0.2912 - val_loss: 0.2969\n",
            "Epoch 55/200\n",
            "235/235 [==============================] - 1s 3ms/step - loss: 0.2911 - val_loss: 0.2971\n",
            "Epoch 56/200\n",
            "235/235 [==============================] - 1s 3ms/step - loss: 0.2910 - val_loss: 0.2970\n",
            "Epoch 57/200\n",
            "235/235 [==============================] - 1s 3ms/step - loss: 0.2909 - val_loss: 0.2970\n",
            "Epoch 58/200\n",
            "235/235 [==============================] - 1s 3ms/step - loss: 0.2908 - val_loss: 0.2971\n",
            "Epoch 59/200\n",
            "235/235 [==============================] - 1s 4ms/step - loss: 0.2908 - val_loss: 0.2968\n",
            "Epoch 60/200\n",
            "235/235 [==============================] - 1s 3ms/step - loss: 0.2907 - val_loss: 0.2970\n",
            "Epoch 61/200\n",
            "235/235 [==============================] - 1s 4ms/step - loss: 0.2907 - val_loss: 0.2971\n",
            "Epoch 62/200\n",
            "235/235 [==============================] - 1s 4ms/step - loss: 0.2905 - val_loss: 0.2966\n",
            "Epoch 63/200\n",
            "235/235 [==============================] - 1s 3ms/step - loss: 0.2905 - val_loss: 0.2966\n",
            "Epoch 64/200\n",
            "235/235 [==============================] - 1s 3ms/step - loss: 0.2904 - val_loss: 0.2965\n",
            "Epoch 65/200\n",
            "235/235 [==============================] - 1s 3ms/step - loss: 0.2903 - val_loss: 0.2965\n",
            "Epoch 66/200\n",
            "235/235 [==============================] - 1s 4ms/step - loss: 0.2903 - val_loss: 0.2969\n",
            "Epoch 67/200\n",
            "235/235 [==============================] - 1s 3ms/step - loss: 0.2903 - val_loss: 0.2965\n",
            "Epoch 68/200\n",
            "235/235 [==============================] - 1s 3ms/step - loss: 0.2901 - val_loss: 0.2970\n",
            "Epoch 69/200\n",
            "235/235 [==============================] - 1s 3ms/step - loss: 0.2901 - val_loss: 0.2969\n",
            "Epoch 70/200\n",
            "235/235 [==============================] - 1s 3ms/step - loss: 0.2900 - val_loss: 0.2968\n",
            "Epoch 71/200\n",
            "235/235 [==============================] - 1s 4ms/step - loss: 0.2900 - val_loss: 0.2966\n",
            "Epoch 72/200\n",
            "235/235 [==============================] - 1s 4ms/step - loss: 0.2899 - val_loss: 0.2962\n",
            "Epoch 73/200\n",
            "235/235 [==============================] - 1s 4ms/step - loss: 0.2899 - val_loss: 0.2966\n",
            "Epoch 74/200\n",
            "235/235 [==============================] - 1s 3ms/step - loss: 0.2898 - val_loss: 0.2963\n",
            "Epoch 75/200\n",
            "235/235 [==============================] - 1s 4ms/step - loss: 0.2898 - val_loss: 0.2966\n",
            "Epoch 76/200\n",
            "235/235 [==============================] - 1s 3ms/step - loss: 0.2897 - val_loss: 0.2965\n",
            "Epoch 77/200\n",
            "235/235 [==============================] - 1s 3ms/step - loss: 0.2896 - val_loss: 0.2962\n",
            "Epoch 78/200\n",
            "235/235 [==============================] - 1s 4ms/step - loss: 0.2896 - val_loss: 0.2962\n",
            "Epoch 79/200\n",
            "235/235 [==============================] - 1s 3ms/step - loss: 0.2896 - val_loss: 0.2966\n",
            "Epoch 80/200\n",
            "235/235 [==============================] - 1s 4ms/step - loss: 0.2895 - val_loss: 0.2960\n",
            "Epoch 81/200\n",
            "235/235 [==============================] - 1s 4ms/step - loss: 0.2894 - val_loss: 0.2962\n",
            "Epoch 82/200\n",
            "235/235 [==============================] - 1s 3ms/step - loss: 0.2894 - val_loss: 0.2963\n",
            "Epoch 83/200\n",
            "235/235 [==============================] - 1s 3ms/step - loss: 0.2894 - val_loss: 0.2960\n",
            "Epoch 84/200\n",
            "235/235 [==============================] - 1s 3ms/step - loss: 0.2893 - val_loss: 0.2961\n",
            "Epoch 85/200\n",
            "235/235 [==============================] - 1s 3ms/step - loss: 0.2893 - val_loss: 0.2961\n",
            "Epoch 86/200\n",
            "235/235 [==============================] - 1s 3ms/step - loss: 0.2893 - val_loss: 0.2960\n",
            "Epoch 87/200\n",
            "235/235 [==============================] - 1s 3ms/step - loss: 0.2892 - val_loss: 0.2960\n",
            "Epoch 88/200\n",
            "235/235 [==============================] - 1s 4ms/step - loss: 0.2892 - val_loss: 0.2960\n",
            "Epoch 89/200\n",
            "235/235 [==============================] - 1s 3ms/step - loss: 0.2892 - val_loss: 0.2957\n",
            "Epoch 90/200\n",
            "235/235 [==============================] - 1s 3ms/step - loss: 0.2891 - val_loss: 0.2966\n",
            "Epoch 91/200\n",
            "235/235 [==============================] - 1s 3ms/step - loss: 0.2891 - val_loss: 0.2958\n",
            "Epoch 92/200\n",
            "235/235 [==============================] - 1s 3ms/step - loss: 0.2891 - val_loss: 0.2960\n",
            "Epoch 93/200\n",
            "235/235 [==============================] - 1s 4ms/step - loss: 0.2890 - val_loss: 0.2960\n",
            "Epoch 94/200\n",
            "235/235 [==============================] - 1s 3ms/step - loss: 0.2890 - val_loss: 0.2963\n",
            "Epoch 95/200\n",
            "235/235 [==============================] - 1s 3ms/step - loss: 0.2889 - val_loss: 0.2963\n",
            "Epoch 96/200\n",
            "235/235 [==============================] - 1s 3ms/step - loss: 0.2889 - val_loss: 0.2968\n",
            "Epoch 97/200\n",
            "235/235 [==============================] - 1s 4ms/step - loss: 0.2889 - val_loss: 0.2960\n",
            "Epoch 98/200\n",
            "235/235 [==============================] - 1s 3ms/step - loss: 0.2889 - val_loss: 0.2959\n",
            "Epoch 99/200\n",
            "235/235 [==============================] - 1s 3ms/step - loss: 0.2887 - val_loss: 0.2957\n",
            "Epoch 100/200\n",
            "235/235 [==============================] - 1s 3ms/step - loss: 0.2889 - val_loss: 0.2958\n",
            "Epoch 101/200\n",
            "235/235 [==============================] - 1s 3ms/step - loss: 0.2888 - val_loss: 0.2959\n",
            "Epoch 102/200\n",
            "235/235 [==============================] - 1s 4ms/step - loss: 0.2887 - val_loss: 0.2961\n",
            "Epoch 103/200\n",
            "235/235 [==============================] - 1s 3ms/step - loss: 0.2887 - val_loss: 0.2958\n",
            "Epoch 104/200\n",
            "235/235 [==============================] - 1s 3ms/step - loss: 0.2887 - val_loss: 0.2962\n",
            "Epoch 105/200\n",
            "235/235 [==============================] - 1s 3ms/step - loss: 0.2886 - val_loss: 0.2960\n",
            "Epoch 106/200\n",
            "235/235 [==============================] - 1s 3ms/step - loss: 0.2886 - val_loss: 0.2956\n",
            "Epoch 107/200\n",
            "235/235 [==============================] - 1s 4ms/step - loss: 0.2885 - val_loss: 0.2956\n",
            "Epoch 108/200\n",
            "235/235 [==============================] - 1s 4ms/step - loss: 0.2886 - val_loss: 0.2960\n",
            "Epoch 109/200\n",
            "235/235 [==============================] - 1s 3ms/step - loss: 0.2886 - val_loss: 0.2956\n",
            "Epoch 110/200\n",
            "235/235 [==============================] - 1s 3ms/step - loss: 0.2885 - val_loss: 0.2957\n",
            "Epoch 111/200\n",
            "235/235 [==============================] - 1s 3ms/step - loss: 0.2885 - val_loss: 0.2962\n",
            "Epoch 112/200\n",
            "235/235 [==============================] - 1s 3ms/step - loss: 0.2885 - val_loss: 0.2956\n",
            "Epoch 113/200\n",
            "235/235 [==============================] - 1s 3ms/step - loss: 0.2885 - val_loss: 0.2956\n",
            "Epoch 114/200\n",
            "235/235 [==============================] - 1s 3ms/step - loss: 0.2884 - val_loss: 0.2956\n",
            "Epoch 115/200\n",
            "235/235 [==============================] - 1s 3ms/step - loss: 0.2884 - val_loss: 0.2957\n",
            "Epoch 116/200\n",
            "235/235 [==============================] - 1s 3ms/step - loss: 0.2883 - val_loss: 0.2955\n",
            "Epoch 117/200\n",
            "235/235 [==============================] - 1s 3ms/step - loss: 0.2883 - val_loss: 0.2956\n",
            "Epoch 118/200\n",
            "235/235 [==============================] - 1s 3ms/step - loss: 0.2883 - val_loss: 0.2955\n",
            "Epoch 119/200\n",
            "235/235 [==============================] - 1s 3ms/step - loss: 0.2884 - val_loss: 0.2956\n",
            "Epoch 120/200\n",
            "235/235 [==============================] - 1s 3ms/step - loss: 0.2882 - val_loss: 0.2957\n",
            "Epoch 121/200\n",
            "235/235 [==============================] - 1s 3ms/step - loss: 0.2882 - val_loss: 0.2956\n",
            "Epoch 122/200\n",
            "235/235 [==============================] - 1s 3ms/step - loss: 0.2882 - val_loss: 0.2954\n",
            "Epoch 123/200\n",
            "235/235 [==============================] - 1s 3ms/step - loss: 0.2882 - val_loss: 0.2958\n",
            "Epoch 124/200\n",
            "235/235 [==============================] - 1s 3ms/step - loss: 0.2882 - val_loss: 0.2957\n",
            "Epoch 125/200\n",
            "235/235 [==============================] - 1s 3ms/step - loss: 0.2882 - val_loss: 0.2958\n",
            "Epoch 126/200\n",
            "235/235 [==============================] - 1s 3ms/step - loss: 0.2882 - val_loss: 0.2959\n",
            "Epoch 127/200\n",
            "235/235 [==============================] - 1s 3ms/step - loss: 0.2881 - val_loss: 0.2963\n",
            "Epoch 128/200\n",
            "235/235 [==============================] - 1s 4ms/step - loss: 0.2881 - val_loss: 0.2956\n",
            "Epoch 129/200\n",
            "235/235 [==============================] - 1s 3ms/step - loss: 0.2881 - val_loss: 0.2954\n",
            "Epoch 130/200\n",
            "235/235 [==============================] - 1s 4ms/step - loss: 0.2880 - val_loss: 0.2956\n",
            "Epoch 131/200\n",
            "235/235 [==============================] - 1s 4ms/step - loss: 0.2880 - val_loss: 0.2954\n",
            "Epoch 132/200\n",
            "235/235 [==============================] - 1s 3ms/step - loss: 0.2880 - val_loss: 0.2960\n",
            "Epoch 133/200\n",
            "235/235 [==============================] - 1s 3ms/step - loss: 0.2880 - val_loss: 0.2955\n",
            "Epoch 134/200\n",
            "235/235 [==============================] - 1s 3ms/step - loss: 0.2880 - val_loss: 0.2956\n",
            "Epoch 135/200\n",
            "235/235 [==============================] - 1s 3ms/step - loss: 0.2880 - val_loss: 0.2960\n",
            "Epoch 136/200\n",
            "235/235 [==============================] - 1s 3ms/step - loss: 0.2879 - val_loss: 0.2960\n",
            "Epoch 137/200\n",
            "235/235 [==============================] - 1s 4ms/step - loss: 0.2879 - val_loss: 0.2955\n",
            "Epoch 138/200\n",
            "235/235 [==============================] - 1s 4ms/step - loss: 0.2879 - val_loss: 0.2954\n",
            "Epoch 139/200\n",
            "235/235 [==============================] - 1s 3ms/step - loss: 0.2878 - val_loss: 0.2953\n",
            "Epoch 140/200\n",
            "235/235 [==============================] - 1s 4ms/step - loss: 0.2879 - val_loss: 0.2956\n",
            "Epoch 141/200\n",
            "235/235 [==============================] - 1s 3ms/step - loss: 0.2879 - val_loss: 0.2955\n",
            "Epoch 142/200\n",
            "235/235 [==============================] - 1s 4ms/step - loss: 0.2878 - val_loss: 0.2955\n",
            "Epoch 143/200\n",
            "235/235 [==============================] - 1s 4ms/step - loss: 0.2878 - val_loss: 0.2954\n",
            "Epoch 144/200\n",
            "235/235 [==============================] - 1s 4ms/step - loss: 0.2878 - val_loss: 0.2955\n",
            "Epoch 145/200\n",
            "235/235 [==============================] - 1s 4ms/step - loss: 0.2878 - val_loss: 0.2953\n",
            "Epoch 146/200\n",
            "235/235 [==============================] - 1s 3ms/step - loss: 0.2878 - val_loss: 0.2955\n",
            "Epoch 147/200\n",
            "235/235 [==============================] - 1s 3ms/step - loss: 0.2878 - val_loss: 0.2954\n",
            "Epoch 148/200\n",
            "235/235 [==============================] - 1s 3ms/step - loss: 0.2877 - val_loss: 0.2952\n",
            "Epoch 149/200\n",
            "235/235 [==============================] - 1s 3ms/step - loss: 0.2877 - val_loss: 0.2956\n",
            "Epoch 150/200\n",
            "235/235 [==============================] - 1s 3ms/step - loss: 0.2877 - val_loss: 0.2956\n",
            "Epoch 151/200\n",
            "235/235 [==============================] - 1s 3ms/step - loss: 0.2877 - val_loss: 0.2957\n",
            "Epoch 152/200\n",
            "235/235 [==============================] - 1s 3ms/step - loss: 0.2877 - val_loss: 0.2956\n",
            "Epoch 153/200\n",
            "235/235 [==============================] - 1s 3ms/step - loss: 0.2877 - val_loss: 0.2957\n",
            "Epoch 154/200\n",
            "235/235 [==============================] - 1s 4ms/step - loss: 0.2877 - val_loss: 0.2956\n",
            "Epoch 155/200\n",
            "235/235 [==============================] - 1s 3ms/step - loss: 0.2876 - val_loss: 0.2953\n",
            "Epoch 156/200\n",
            "235/235 [==============================] - 1s 4ms/step - loss: 0.2876 - val_loss: 0.2953\n",
            "Epoch 157/200\n",
            "235/235 [==============================] - 1s 3ms/step - loss: 0.2876 - val_loss: 0.2953\n",
            "Epoch 158/200\n",
            "235/235 [==============================] - 1s 3ms/step - loss: 0.2876 - val_loss: 0.2957\n",
            "Epoch 159/200\n",
            "235/235 [==============================] - 1s 3ms/step - loss: 0.2875 - val_loss: 0.2955\n",
            "Epoch 160/200\n",
            "235/235 [==============================] - 1s 3ms/step - loss: 0.2875 - val_loss: 0.2953\n",
            "Epoch 161/200\n",
            "235/235 [==============================] - 1s 3ms/step - loss: 0.2875 - val_loss: 0.2956\n",
            "Epoch 162/200\n",
            "235/235 [==============================] - 1s 3ms/step - loss: 0.2875 - val_loss: 0.2953\n",
            "Epoch 163/200\n",
            "235/235 [==============================] - 1s 3ms/step - loss: 0.2875 - val_loss: 0.2954\n",
            "Epoch 164/200\n",
            "235/235 [==============================] - 1s 4ms/step - loss: 0.2876 - val_loss: 0.2952\n",
            "Epoch 165/200\n",
            "235/235 [==============================] - 1s 3ms/step - loss: 0.2875 - val_loss: 0.2954\n",
            "Epoch 166/200\n",
            "235/235 [==============================] - 1s 3ms/step - loss: 0.2875 - val_loss: 0.2953\n",
            "Epoch 167/200\n",
            "235/235 [==============================] - 1s 3ms/step - loss: 0.2874 - val_loss: 0.2952\n",
            "Epoch 168/200\n",
            "235/235 [==============================] - 1s 3ms/step - loss: 0.2874 - val_loss: 0.2955\n",
            "Epoch 169/200\n",
            "235/235 [==============================] - 1s 4ms/step - loss: 0.2874 - val_loss: 0.2950\n",
            "Epoch 170/200\n",
            "235/235 [==============================] - 1s 3ms/step - loss: 0.2874 - val_loss: 0.2953\n",
            "Epoch 171/200\n",
            "235/235 [==============================] - 1s 3ms/step - loss: 0.2874 - val_loss: 0.2954\n",
            "Epoch 172/200\n",
            "235/235 [==============================] - 1s 3ms/step - loss: 0.2873 - val_loss: 0.2954\n",
            "Epoch 173/200\n",
            "235/235 [==============================] - 1s 4ms/step - loss: 0.2873 - val_loss: 0.2954\n",
            "Epoch 174/200\n",
            "235/235 [==============================] - 1s 3ms/step - loss: 0.2874 - val_loss: 0.2952\n",
            "Epoch 175/200\n",
            "235/235 [==============================] - 1s 3ms/step - loss: 0.2873 - val_loss: 0.2956\n",
            "Epoch 176/200\n",
            "235/235 [==============================] - 1s 3ms/step - loss: 0.2873 - val_loss: 0.2953\n",
            "Epoch 177/200\n",
            "235/235 [==============================] - 1s 4ms/step - loss: 0.2874 - val_loss: 0.2953\n",
            "Epoch 178/200\n",
            "235/235 [==============================] - 1s 3ms/step - loss: 0.2873 - val_loss: 0.2954\n",
            "Epoch 179/200\n",
            "235/235 [==============================] - 1s 3ms/step - loss: 0.2872 - val_loss: 0.2951\n",
            "Epoch 180/200\n",
            "235/235 [==============================] - 1s 3ms/step - loss: 0.2873 - val_loss: 0.2952\n",
            "Epoch 181/200\n",
            "235/235 [==============================] - 1s 3ms/step - loss: 0.2873 - val_loss: 0.2954\n",
            "Epoch 182/200\n",
            "235/235 [==============================] - 1s 4ms/step - loss: 0.2872 - val_loss: 0.2951\n",
            "Epoch 183/200\n",
            "235/235 [==============================] - 1s 4ms/step - loss: 0.2873 - val_loss: 0.2952\n",
            "Epoch 184/200\n",
            "235/235 [==============================] - 1s 4ms/step - loss: 0.2872 - val_loss: 0.2952\n",
            "Epoch 185/200\n",
            "235/235 [==============================] - 1s 3ms/step - loss: 0.2872 - val_loss: 0.2954\n",
            "Epoch 186/200\n",
            "235/235 [==============================] - 1s 4ms/step - loss: 0.2872 - val_loss: 0.2951\n",
            "Epoch 187/200\n",
            "235/235 [==============================] - 1s 4ms/step - loss: 0.2872 - val_loss: 0.2956\n",
            "Epoch 188/200\n",
            "235/235 [==============================] - 1s 4ms/step - loss: 0.2871 - val_loss: 0.2953\n",
            "Epoch 189/200\n",
            "235/235 [==============================] - 1s 4ms/step - loss: 0.2871 - val_loss: 0.2950\n",
            "Epoch 190/200\n",
            "235/235 [==============================] - 1s 3ms/step - loss: 0.2871 - val_loss: 0.2955\n",
            "Epoch 191/200\n",
            "235/235 [==============================] - 1s 3ms/step - loss: 0.2871 - val_loss: 0.2956\n",
            "Epoch 192/200\n",
            "235/235 [==============================] - 1s 4ms/step - loss: 0.2872 - val_loss: 0.2952\n",
            "Epoch 193/200\n",
            "235/235 [==============================] - 1s 3ms/step - loss: 0.2871 - val_loss: 0.2952\n",
            "Epoch 194/200\n",
            "235/235 [==============================] - 1s 4ms/step - loss: 0.2871 - val_loss: 0.2953\n",
            "Epoch 195/200\n",
            "235/235 [==============================] - 1s 4ms/step - loss: 0.2871 - val_loss: 0.2951\n",
            "Epoch 196/200\n",
            "235/235 [==============================] - 1s 4ms/step - loss: 0.2871 - val_loss: 0.2952\n",
            "Epoch 197/200\n",
            "235/235 [==============================] - 1s 3ms/step - loss: 0.2870 - val_loss: 0.2951\n",
            "Epoch 198/200\n",
            "235/235 [==============================] - 1s 3ms/step - loss: 0.2870 - val_loss: 0.2950\n",
            "Epoch 199/200\n",
            "235/235 [==============================] - 1s 3ms/step - loss: 0.2871 - val_loss: 0.2953\n",
            "Epoch 200/200\n",
            "235/235 [==============================] - 1s 3ms/step - loss: 0.2870 - val_loss: 0.2951\n"
          ],
          "name": "stdout"
        }
      ]
    },
    {
      "cell_type": "markdown",
      "metadata": {
        "id": "aVnuSMGqH6_a",
        "colab_type": "text"
      },
      "source": [
        "**Plot the loss**"
      ]
    },
    {
      "cell_type": "code",
      "metadata": {
        "id": "mCbxO9VZIBK-",
        "colab_type": "code",
        "colab": {
          "base_uri": "https://localhost:8080/",
          "height": 294
        },
        "outputId": "86dd20c5-d010-4f0b-89d5-a6e4daeb4a5c"
      },
      "source": [
        "plt.plot(history_den_mlp.history['loss'])\n",
        "plt.plot(history_den_mlp.history['val_loss'])\n",
        "plt.title('model loss -- denoiser')\n",
        "plt.ylabel('loss')\n",
        "plt.xlabel('epoch')\n",
        "plt.legend(['train', 'test'], loc='upper right')\n",
        "plt.show()"
      ],
      "execution_count": 6,
      "outputs": [
        {
          "output_type": "display_data",
          "data": {
            "image/png": "[encoded data removed]",
            "text/plain": [
              "<Figure size 432x288 with 1 Axes>"
            ]
          },
          "metadata": {
            "tags": [],
            "needs_background": "light"
          }
        }
      ]
    },
    {
      "cell_type": "markdown",
      "metadata": {
        "id": "PWEfzsIWIC8H",
        "colab_type": "text"
      },
      "source": [
        "**Testing of the model on noised data**"
      ]
    },
    {
      "cell_type": "code",
      "metadata": {
        "id": "p8ophZjvIHjC",
        "colab_type": "code",
        "colab": {
          "base_uri": "https://localhost:8080/",
          "height": 247
        },
        "outputId": "ce4a2770-d763-4566-ddd4-c69e15674df3"
      },
      "source": [
        "decoded_imgs = denoiser_mlp.predict(x_test_noisy)\n",
        "\n",
        "n = 10  # how many digits we will display\n",
        "plt.figure(figsize=(20, 4))\n",
        "for i in range(n):\n",
        "    # display original\n",
        "    ax = plt.subplot(2, n, i + 1)\n",
        "    plt.imshow(x_test_noisy[i].reshape(28, 28))\n",
        "    plt.gray()\n",
        "    ax.get_xaxis().set_visible(False)\n",
        "    ax.get_yaxis().set_visible(False)\n",
        "\n",
        "    # display reconstruction\n",
        "    ax = plt.subplot(2, n, i + 1 + n)\n",
        "    plt.imshow(decoded_imgs[i].reshape(28, 28))\n",
        "    plt.gray()\n",
        "    ax.get_xaxis().set_visible(False)\n",
        "    ax.get_yaxis().set_visible(False)\n",
        "plt.show()"
      ],
      "execution_count": 7,
      "outputs": [
        {
          "output_type": "display_data",
          "data": {
            "image/png": "[encoded data removed]",
            "text/plain": [
              "<Figure size 1440x288 with 20 Axes>"
            ]
          },
          "metadata": {
            "tags": [],
            "needs_background": "light"
          }
        }
      ]
    },
    {
      "cell_type": "code",
      "metadata": {
        "id": "ll3gZ52dJ6l2",
        "colab_type": "code",
        "colab": {}
      },
      "source": [
        ""
      ],
      "execution_count": null,
      "outputs": []
    }
  ]
}